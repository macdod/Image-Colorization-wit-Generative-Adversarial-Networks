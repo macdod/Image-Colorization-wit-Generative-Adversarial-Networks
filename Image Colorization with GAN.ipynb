{
  "nbformat": 4,
  "nbformat_minor": 0,
  "metadata": {
    "colab": {
      "name": "colourize.ipynb",
      "version": "0.3.2",
      "provenance": []
    },
    "kernelspec": {
      "name": "python3",
      "display_name": "Python 3"
    },
    "accelerator": "GPU"
  },
  "cells": [
    {
      "metadata": {
        "id": "BAgj34Xer8Sw",
        "colab_type": "text"
      },
      "cell_type": "markdown",
      "source": [
        ""
      ]
    },
    {
      "metadata": {
        "id": "PrEW05aUWGlX",
        "colab_type": "code",
        "colab": {}
      },
      "cell_type": "code",
      "source": [
        "!pip install -q keras"
      ],
      "execution_count": 0,
      "outputs": []
    },
    {
      "metadata": {
        "id": "dmvoNhgtWgZ0",
        "colab_type": "code",
        "colab": {
          "base_uri": "https://localhost:8080/",
          "height": 224
        },
        "outputId": "2efe24d9-5c86-4e6a-9662-71b13705dfb8"
      },
      "cell_type": "code",
      "source": [
        "import keras\n",
        "from keras.applications.inception_resnet_v2 import InceptionResNetV2\n",
        "from keras.preprocessing import image\n",
        "from keras.engine import Layer\n",
        "from keras.applications.inception_resnet_v2 import preprocess_input\n",
        "from keras.layers import Conv2D, UpSampling2D, InputLayer, Conv2DTranspose, Input, Reshape, merge, concatenate, Activation, Dense, Dropout, Flatten\n",
        "from keras.layers.normalization import BatchNormalization\n",
        "from keras.callbacks import TensorBoard \n",
        "from keras.models import Sequential, Model\n",
        "from keras.layers.core import RepeatVector, Permute\n",
        "from keras.preprocessing.image import ImageDataGenerator, array_to_img, img_to_array, load_img\n",
        "from skimage.color import rgb2lab, lab2rgb, rgb2gray, gray2rgb\n",
        "from skimage.transform import resize\n",
        "from skimage.io import imsave\n",
        "import numpy as np\n",
        "import os\n",
        "import random\n",
        "\n",
        "!apt-get install -y -qq software-properties-common python-software-properties module-init-tools\n",
        "!add-apt-repository -y ppa:alessandro-strada/ppa 2>&1 > /dev/null\n",
        "!apt-get update -qq 2>&1 > /dev/null\n",
        "!apt-get -y install -qq google-drive-ocamlfuse fuse\n",
        "from google.colab import auth\n",
        "auth.authenticate_user()\n",
        "from oauth2client.client import GoogleCredentials\n",
        "creds = GoogleCredentials.get_application_default()\n",
        "import getpass\n",
        "!google-drive-ocamlfuse -headless -id={creds.client_id} -secret={creds.client_secret} < /dev/null 2>&1 | grep URL\n",
        "vcode = getpass.getpass()\n",
        "!echo {vcode} | google-drive-ocamlfuse -headless -id={creds.client_id} -secret={creds.client_secret}\n",
        "import tensorflow as tf"
      ],
      "execution_count": 8,
      "outputs": [
        {
          "output_type": "stream",
          "text": [
            "E: Package 'python-software-properties' has no installation candidate\n",
            "Selecting previously unselected package google-drive-ocamlfuse.\n",
            "(Reading database ... 113597 files and directories currently installed.)\n",
            "Preparing to unpack .../google-drive-ocamlfuse_0.7.1-0ubuntu3~ubuntu18.04.1_amd64.deb ...\n",
            "Unpacking google-drive-ocamlfuse (0.7.1-0ubuntu3~ubuntu18.04.1) ...\n",
            "Setting up google-drive-ocamlfuse (0.7.1-0ubuntu3~ubuntu18.04.1) ...\n",
            "Processing triggers for man-db (2.8.3-2ubuntu0.1) ...\n",
            "Please, open the following URL in a web browser: https://accounts.google.com/o/oauth2/auth?client_id=32555940559.apps.googleusercontent.com&redirect_uri=urn%3Aietf%3Awg%3Aoauth%3A2.0%3Aoob&scope=https%3A%2F%2Fwww.googleapis.com%2Fauth%2Fdrive&response_type=code&access_type=offline&approval_prompt=force\n",
            "··········\n",
            "Please, open the following URL in a web browser: https://accounts.google.com/o/oauth2/auth?client_id=32555940559.apps.googleusercontent.com&redirect_uri=urn%3Aietf%3Awg%3Aoauth%3A2.0%3Aoob&scope=https%3A%2F%2Fwww.googleapis.com%2Fauth%2Fdrive&response_type=code&access_type=offline&approval_prompt=force\n",
            "Please enter the verification code: Access token retrieved correctly.\n"
          ],
          "name": "stdout"
        }
      ]
    },
    {
      "metadata": {
        "id": "JZd-z3nIvY-S",
        "colab_type": "code",
        "colab": {}
      },
      "cell_type": "code",
      "source": [
        "from keras.models import model_from_json"
      ],
      "execution_count": 0,
      "outputs": []
    },
    {
      "metadata": {
        "id": "6hyJouk4Xly5",
        "colab_type": "code",
        "colab": {
          "base_uri": "https://localhost:8080/",
          "height": 68
        },
        "outputId": "6cc214c5-1bee-4bd2-a190-a4e5a091ce75"
      },
      "cell_type": "code",
      "source": [
        "\n",
        "\n",
        "!mkdir drive\n",
        "!google-drive-ocamlfuse drive\n",
        "!ls drive/\"Colab Notebooks\""
      ],
      "execution_count": 9,
      "outputs": [
        {
          "output_type": "stream",
          "text": [
            "mkdir: cannot create directory ‘drive’: File exists\n",
            "color_tensorflow_real_mode.h5  model.json  result  Train\n",
            "colourize.ipynb\t\t       output\t   Test\n"
          ],
          "name": "stdout"
        }
      ]
    },
    {
      "metadata": {
        "id": "6_cNJEw9aIi4",
        "colab_type": "code",
        "colab": {}
      },
      "cell_type": "code",
      "source": [
        "X = []\n",
        "for filename in os.listdir('drive/Colab Notebooks/Train/'):\n",
        "    X.append(img_to_array(load_img('drive/Colab Notebooks/Train/'+filename)))\n",
        "X = np.array(X, dtype=float)\n",
        "Xtrain = 1.0/255*X"
      ],
      "execution_count": 0,
      "outputs": []
    },
    {
      "metadata": {
        "id": "nF7pV-AraVjT",
        "colab_type": "code",
        "colab": {
          "base_uri": "https://localhost:8080/",
          "height": 122
        },
        "outputId": "7ec17fce-f970-45c0-d36c-96199ca826c4"
      },
      "cell_type": "code",
      "source": [
        "inception = InceptionResNetV2(weights='imagenet', include_top=True)\n",
        "inception.graph = tf.get_default_graph()"
      ],
      "execution_count": 15,
      "outputs": [
        {
          "output_type": "stream",
          "text": [
            "WARNING:tensorflow:From /usr/local/lib/python3.6/dist-packages/tensorflow/python/framework/op_def_library.py:263: colocate_with (from tensorflow.python.framework.ops) is deprecated and will be removed in a future version.\n",
            "Instructions for updating:\n",
            "Colocations handled automatically by placer.\n",
            "Downloading data from https://github.com/fchollet/deep-learning-models/releases/download/v0.7/inception_resnet_v2_weights_tf_dim_ordering_tf_kernels.h5\n",
            "225214464/225209952 [==============================] - 4s 0us/step\n"
          ],
          "name": "stdout"
        }
      ]
    },
    {
      "metadata": {
        "id": "6LW1lMw5aa9E",
        "colab_type": "code",
        "colab": {}
      },
      "cell_type": "code",
      "source": [
        "embed_input = Input(shape=(1000,))\n",
        "#Encoder\n",
        "encoder_input = Input(shape=(256, 256, 1,))\n",
        "encoder_output = Conv2D(64, (3,3), activation='relu', padding='same', strides=2)(encoder_input)\n",
        "encoder_output = Conv2D(128, (3,3), activation='relu', padding='same')(encoder_output)\n",
        "encoder_output = Conv2D(128, (3,3), activation='relu', padding='same', strides=2)(encoder_output)\n",
        "encoder_output = Conv2D(256, (3,3), activation='relu', padding='same')(encoder_output)\n",
        "encoder_output = Conv2D(256, (3,3), activation='relu', padding='same', strides=2)(encoder_output)\n",
        "encoder_output = Conv2D(512, (3,3), activation='relu', padding='same')(encoder_output)\n",
        "encoder_output = Conv2D(512, (3,3), activation='relu', padding='same')(encoder_output)\n",
        "encoder_output = Conv2D(256, (3,3), activation='relu', padding='same')(encoder_output)\n",
        "\n",
        "#Fusion\n",
        "fusion_output = RepeatVector(32 * 32)(embed_input) \n",
        "fusion_output = Reshape(([32, 32, 1000]))(fusion_output)\n",
        "fusion_output = concatenate([encoder_output, fusion_output], axis=3) \n",
        "fusion_output = Conv2D(256, (1, 1), activation='relu', padding='same')(fusion_output) \n",
        "\n",
        "#Decoder\n",
        "decoder_output = Conv2D(128, (3,3), activation='relu', padding='same')(fusion_output)\n",
        "decoder_output = UpSampling2D((2, 2))(decoder_output)\n",
        "decoder_output = Conv2D(64, (3,3), activation='relu', padding='same')(decoder_output)\n",
        "decoder_output = UpSampling2D((2, 2))(decoder_output)\n",
        "decoder_output = Conv2D(32, (3,3), activation='relu', padding='same')(decoder_output)\n",
        "decoder_output = Conv2D(16, (3,3), activation='relu', padding='same')(decoder_output)\n",
        "decoder_output = Conv2D(2, (3, 3), activation='tanh', padding='same')(decoder_output)\n",
        "decoder_output = UpSampling2D((2, 2))(decoder_output)\n",
        "\n",
        "model = Model(inputs=[encoder_input, embed_input], outputs=decoder_output)"
      ],
      "execution_count": 0,
      "outputs": []
    },
    {
      "metadata": {
        "id": "JfPe1S-Jao3Z",
        "colab_type": "code",
        "colab": {}
      },
      "cell_type": "code",
      "source": [
        "def create_inception_embedding(grayscaled_rgb):\n",
        "    grayscaled_rgb_resized = []\n",
        "    for i in grayscaled_rgb:\n",
        "        i = resize(i, (299, 299, 3), mode='constant')\n",
        "        grayscaled_rgb_resized.append(i)\n",
        "    grayscaled_rgb_resized = np.array(grayscaled_rgb_resized)\n",
        "    grayscaled_rgb_resized = preprocess_input(grayscaled_rgb_resized)\n",
        "    with inception.graph.as_default():\n",
        "        embed = inception.predict(grayscaled_rgb_resized)\n",
        "    return embed"
      ],
      "execution_count": 0,
      "outputs": []
    },
    {
      "metadata": {
        "id": "p0pSICluas7o",
        "colab_type": "code",
        "colab": {}
      },
      "cell_type": "code",
      "source": [
        "# Image transformer\n",
        "datagen = ImageDataGenerator(\n",
        "        shear_range=0.2,\n",
        "        zoom_range=0.2,\n",
        "        rotation_range=20,\n",
        "        horizontal_flip=True)\n",
        "\n",
        "#Generate training data\n",
        "batch_size = 20\n",
        "\n",
        "def image_a_b_gen(batch_size):\n",
        "    for batch in datagen.flow(Xtrain, batch_size=batch_size):\n",
        "        grayscaled_rgb = gray2rgb(rgb2gray(batch))\n",
        "        embed = create_inception_embedding(grayscaled_rgb)\n",
        "        lab_batch = rgb2lab(batch)\n",
        "        X_batch = lab_batch[:,:,:,0]\n",
        "        X_batch = X_batch.reshape(X_batch.shape+(1,))\n",
        "        Y_batch = lab_batch[:,:,:,1:] / 128\n",
        "        yield ([X_batch, create_inception_embedding(grayscaled_rgb)], Y_batch)"
      ],
      "execution_count": 0,
      "outputs": []
    },
    {
      "metadata": {
        "id": "WjLcu57MaxFB",
        "colab_type": "code",
        "colab": {
          "base_uri": "https://localhost:8080/",
          "height": 3434
        },
        "outputId": "7d614289-8046-4f1c-8784-f8020d87c280"
      },
      "cell_type": "code",
      "source": [
        "tensorboard = TensorBoard(log_dir=\"drive/Colab Notebooks/output\")\n",
        "model.compile(optimizer='adam', loss='mse')\n",
        "model.fit_generator(image_a_b_gen(batch_size), callbacks=[tensorboard], epochs=100, steps_per_epoch=20)"
      ],
      "execution_count": 54,
      "outputs": [
        {
          "output_type": "stream",
          "text": [
            "Epoch 1/100\n",
            "20/20 [==============================] - 34s 2s/step - loss: 0.0062\n",
            "Epoch 2/100\n",
            "20/20 [==============================] - 31s 2s/step - loss: 0.0055\n",
            "Epoch 3/100\n",
            "20/20 [==============================] - 31s 2s/step - loss: 0.0051\n",
            "Epoch 4/100\n",
            "20/20 [==============================] - 31s 2s/step - loss: 0.0049\n",
            "Epoch 5/100\n",
            "20/20 [==============================] - 31s 2s/step - loss: 0.0048\n",
            "Epoch 6/100\n",
            "20/20 [==============================] - 31s 2s/step - loss: 0.0045\n",
            "Epoch 7/100\n",
            "20/20 [==============================] - 31s 2s/step - loss: 0.0043\n",
            "Epoch 8/100\n",
            "20/20 [==============================] - 31s 2s/step - loss: 0.0041\n",
            "Epoch 9/100\n",
            "20/20 [==============================] - 31s 2s/step - loss: 0.0037\n",
            "Epoch 10/100\n",
            "20/20 [==============================] - 31s 2s/step - loss: 0.0034\n",
            "Epoch 11/100\n",
            "20/20 [==============================] - 31s 2s/step - loss: 0.0031\n",
            "Epoch 12/100\n",
            "20/20 [==============================] - 31s 2s/step - loss: 0.0031\n",
            "Epoch 13/100\n",
            "20/20 [==============================] - 31s 2s/step - loss: 0.0028\n",
            "Epoch 14/100\n",
            "20/20 [==============================] - 31s 2s/step - loss: 0.0028\n",
            "Epoch 15/100\n",
            "20/20 [==============================] - 30s 2s/step - loss: 0.0024\n",
            "Epoch 16/100\n",
            "20/20 [==============================] - 30s 2s/step - loss: 0.0023\n",
            "Epoch 17/100\n",
            "20/20 [==============================] - 30s 2s/step - loss: 0.0020\n",
            "Epoch 18/100\n",
            "20/20 [==============================] - 30s 2s/step - loss: 0.0020\n",
            "Epoch 19/100\n",
            "20/20 [==============================] - 30s 2s/step - loss: 0.0018\n",
            "Epoch 20/100\n",
            "20/20 [==============================] - 30s 2s/step - loss: 0.0015\n",
            "Epoch 21/100\n",
            "20/20 [==============================] - 30s 2s/step - loss: 0.0014\n",
            "Epoch 22/100\n",
            "20/20 [==============================] - 30s 2s/step - loss: 0.0013\n",
            "Epoch 23/100\n",
            "20/20 [==============================] - 30s 2s/step - loss: 0.0013\n",
            "Epoch 24/100\n",
            "20/20 [==============================] - 31s 2s/step - loss: 0.0012\n",
            "Epoch 25/100\n",
            "20/20 [==============================] - 30s 2s/step - loss: 0.0012\n",
            "Epoch 26/100\n",
            "20/20 [==============================] - 30s 2s/step - loss: 0.0011\n",
            "Epoch 27/100\n",
            "20/20 [==============================] - 30s 2s/step - loss: 0.0011\n",
            "Epoch 28/100\n",
            "20/20 [==============================] - 30s 2s/step - loss: 0.0010\n",
            "Epoch 29/100\n",
            "20/20 [==============================] - 30s 2s/step - loss: 0.0011\n",
            "Epoch 30/100\n",
            "20/20 [==============================] - 30s 2s/step - loss: 0.0011\n",
            "Epoch 31/100\n",
            "20/20 [==============================] - 31s 2s/step - loss: 9.5072e-04\n",
            "Epoch 32/100\n",
            "20/20 [==============================] - 31s 2s/step - loss: 9.3468e-04\n",
            "Epoch 33/100\n",
            "20/20 [==============================] - 30s 2s/step - loss: 8.9026e-04\n",
            "Epoch 34/100\n",
            "20/20 [==============================] - 30s 2s/step - loss: 8.5080e-04\n",
            "Epoch 35/100\n",
            "20/20 [==============================] - 30s 2s/step - loss: 8.2507e-04\n",
            "Epoch 36/100\n",
            "20/20 [==============================] - 30s 2s/step - loss: 8.0028e-04\n",
            "Epoch 37/100\n",
            "20/20 [==============================] - 30s 2s/step - loss: 7.8807e-04\n",
            "Epoch 38/100\n",
            "20/20 [==============================] - 30s 2s/step - loss: 7.9522e-04\n",
            "Epoch 39/100\n",
            "20/20 [==============================] - 30s 2s/step - loss: 7.5779e-04\n",
            "Epoch 40/100\n",
            "20/20 [==============================] - 30s 2s/step - loss: 7.7311e-04\n",
            "Epoch 41/100\n",
            "20/20 [==============================] - 30s 2s/step - loss: 7.4525e-04\n",
            "Epoch 42/100\n",
            "20/20 [==============================] - 30s 2s/step - loss: 7.5227e-04\n",
            "Epoch 43/100\n",
            "20/20 [==============================] - 30s 2s/step - loss: 7.1764e-04\n",
            "Epoch 44/100\n",
            "20/20 [==============================] - 31s 2s/step - loss: 6.9901e-04\n",
            "Epoch 45/100\n",
            "20/20 [==============================] - 31s 2s/step - loss: 6.8659e-04\n",
            "Epoch 46/100\n",
            "20/20 [==============================] - 31s 2s/step - loss: 6.7207e-04\n",
            "Epoch 47/100\n",
            "20/20 [==============================] - 31s 2s/step - loss: 6.8076e-04\n",
            "Epoch 48/100\n",
            "20/20 [==============================] - 31s 2s/step - loss: 6.8089e-04\n",
            "Epoch 49/100\n",
            "20/20 [==============================] - 31s 2s/step - loss: 6.7311e-04\n",
            "Epoch 50/100\n",
            "20/20 [==============================] - 31s 2s/step - loss: 6.8344e-04\n",
            "Epoch 51/100\n",
            "20/20 [==============================] - 31s 2s/step - loss: 6.6190e-04\n",
            "Epoch 52/100\n",
            "20/20 [==============================] - 30s 2s/step - loss: 6.3617e-04\n",
            "Epoch 53/100\n",
            "20/20 [==============================] - 30s 2s/step - loss: 6.0203e-04\n",
            "Epoch 54/100\n",
            "20/20 [==============================] - 30s 2s/step - loss: 5.9426e-04\n",
            "Epoch 55/100\n",
            "20/20 [==============================] - 30s 2s/step - loss: 6.0312e-04\n",
            "Epoch 56/100\n",
            "20/20 [==============================] - 30s 2s/step - loss: 5.8844e-04\n",
            "Epoch 57/100\n",
            "20/20 [==============================] - 31s 2s/step - loss: 5.8482e-04\n",
            "Epoch 58/100\n",
            "20/20 [==============================] - 30s 2s/step - loss: 5.8215e-04\n",
            "Epoch 59/100\n",
            "20/20 [==============================] - 30s 2s/step - loss: 5.6114e-04\n",
            "Epoch 60/100\n",
            "20/20 [==============================] - 30s 2s/step - loss: 5.5812e-04\n",
            "Epoch 61/100\n",
            "20/20 [==============================] - 30s 2s/step - loss: 5.6458e-04\n",
            "Epoch 62/100\n",
            "20/20 [==============================] - 31s 2s/step - loss: 5.5548e-04\n",
            "Epoch 63/100\n",
            "20/20 [==============================] - 31s 2s/step - loss: 5.4570e-04\n",
            "Epoch 64/100\n",
            "20/20 [==============================] - 31s 2s/step - loss: 5.4367e-04\n",
            "Epoch 65/100\n",
            "20/20 [==============================] - 31s 2s/step - loss: 5.4325e-04\n",
            "Epoch 66/100\n",
            "20/20 [==============================] - 31s 2s/step - loss: 5.3614e-04\n",
            "Epoch 67/100\n",
            "20/20 [==============================] - 31s 2s/step - loss: 5.4075e-04\n",
            "Epoch 68/100\n",
            "20/20 [==============================] - 31s 2s/step - loss: 5.3487e-04\n",
            "Epoch 69/100\n",
            "20/20 [==============================] - 31s 2s/step - loss: 5.2790e-04\n",
            "Epoch 70/100\n",
            "20/20 [==============================] - 30s 2s/step - loss: 5.0654e-04\n",
            "Epoch 71/100\n",
            "20/20 [==============================] - 30s 2s/step - loss: 5.0601e-04\n",
            "Epoch 72/100\n",
            "20/20 [==============================] - 31s 2s/step - loss: 5.0034e-04\n",
            "Epoch 73/100\n",
            "20/20 [==============================] - 31s 2s/step - loss: 5.0061e-04\n",
            "Epoch 74/100\n",
            "20/20 [==============================] - 31s 2s/step - loss: 5.2762e-04\n",
            "Epoch 75/100\n",
            "20/20 [==============================] - 31s 2s/step - loss: 4.9990e-04\n",
            "Epoch 76/100\n",
            "20/20 [==============================] - 31s 2s/step - loss: 4.8555e-04\n",
            "Epoch 77/100\n",
            "20/20 [==============================] - 31s 2s/step - loss: 4.8269e-04\n",
            "Epoch 78/100\n",
            "20/20 [==============================] - 31s 2s/step - loss: 4.7901e-04\n",
            "Epoch 79/100\n",
            "20/20 [==============================] - 31s 2s/step - loss: 4.8175e-04\n",
            "Epoch 80/100\n",
            "20/20 [==============================] - 31s 2s/step - loss: 4.7400e-04\n",
            "Epoch 81/100\n",
            "20/20 [==============================] - 31s 2s/step - loss: 4.6764e-04\n",
            "Epoch 82/100\n",
            "20/20 [==============================] - 31s 2s/step - loss: 4.6609e-04\n",
            "Epoch 83/100\n",
            "20/20 [==============================] - 31s 2s/step - loss: 4.7139e-04\n",
            "Epoch 84/100\n",
            "20/20 [==============================] - 31s 2s/step - loss: 4.7479e-04\n",
            "Epoch 85/100\n",
            "20/20 [==============================] - 31s 2s/step - loss: 4.6727e-04\n",
            "Epoch 86/100\n",
            "20/20 [==============================] - 31s 2s/step - loss: 4.5814e-04\n",
            "Epoch 87/100\n",
            "20/20 [==============================] - 31s 2s/step - loss: 4.4951e-04\n",
            "Epoch 88/100\n",
            "20/20 [==============================] - 31s 2s/step - loss: 4.6266e-04\n",
            "Epoch 89/100\n",
            "20/20 [==============================] - 31s 2s/step - loss: 4.5863e-04\n",
            "Epoch 90/100\n",
            "20/20 [==============================] - 30s 2s/step - loss: 4.5113e-04\n",
            "Epoch 91/100\n",
            "20/20 [==============================] - 30s 2s/step - loss: 4.4638e-04\n",
            "Epoch 92/100\n",
            "20/20 [==============================] - 30s 2s/step - loss: 4.4660e-04\n",
            "Epoch 93/100\n",
            "20/20 [==============================] - 30s 2s/step - loss: 4.4019e-04\n",
            "Epoch 94/100\n",
            "20/20 [==============================] - 30s 2s/step - loss: 4.3879e-04\n",
            "Epoch 95/100\n",
            "20/20 [==============================] - 30s 2s/step - loss: 4.3987e-04\n",
            "Epoch 96/100\n",
            "20/20 [==============================] - 30s 2s/step - loss: 4.3821e-04\n",
            "Epoch 97/100\n",
            "20/20 [==============================] - 30s 2s/step - loss: 4.3804e-04\n",
            "Epoch 98/100\n",
            "20/20 [==============================] - 30s 2s/step - loss: 4.3312e-04\n",
            "Epoch 99/100\n",
            "20/20 [==============================] - 30s 2s/step - loss: 4.3886e-04\n",
            "Epoch 100/100\n",
            "20/20 [==============================] - 30s 2s/step - loss: 4.4245e-04\n"
          ],
          "name": "stdout"
        },
        {
          "output_type": "execute_result",
          "data": {
            "text/plain": [
              "<keras.callbacks.History at 0x7f1b2bbe3be0>"
            ]
          },
          "metadata": {
            "tags": []
          },
          "execution_count": 54
        }
      ]
    },
    {
      "metadata": {
        "id": "i8uot2uz6rgd",
        "colab_type": "code",
        "colab": {
          "base_uri": "https://localhost:8080/",
          "height": 445
        },
        "outputId": "cdd18e77-f41e-44ba-fae1-e50f4d017d91"
      },
      "cell_type": "code",
      "source": [
        "tensorboard = TensorBoard(log_dir=\"drive/Colab Notebooks/output\")\n",
        "model.compile(optimizer='adam', loss='mse')\n",
        "model.fit_generator(image_a_b_gen(batch_size), callbacks=[tensorboard], epochs=10, steps_per_epoch=20)"
      ],
      "execution_count": 29,
      "outputs": [
        {
          "output_type": "stream",
          "text": [
            "WARNING:tensorflow:From /usr/local/lib/python3.6/dist-packages/tensorflow/python/ops/math_ops.py:3066: to_int32 (from tensorflow.python.ops.math_ops) is deprecated and will be removed in a future version.\n",
            "Instructions for updating:\n",
            "Use tf.cast instead.\n",
            "Epoch 1/10\n",
            "20/20 [==============================] - 35s 2s/step - loss: 0.0399\n",
            "Epoch 2/10\n",
            "20/20 [==============================] - 30s 2s/step - loss: 0.0056\n",
            "Epoch 3/10\n",
            "20/20 [==============================] - 31s 2s/step - loss: 0.0054\n",
            "Epoch 4/10\n",
            "20/20 [==============================] - 30s 2s/step - loss: 0.0050\n",
            "Epoch 5/10\n",
            "20/20 [==============================] - 30s 2s/step - loss: 0.0049\n",
            "Epoch 6/10\n",
            "20/20 [==============================] - 30s 2s/step - loss: 0.0047\n",
            "Epoch 7/10\n",
            "20/20 [==============================] - 31s 2s/step - loss: 0.0045\n",
            "Epoch 8/10\n",
            "20/20 [==============================] - 31s 2s/step - loss: 0.0045\n",
            "Epoch 9/10\n",
            "20/20 [==============================] - 31s 2s/step - loss: 0.0043\n",
            "Epoch 10/10\n",
            "20/20 [==============================] - 31s 2s/step - loss: 0.0040\n"
          ],
          "name": "stdout"
        },
        {
          "output_type": "execute_result",
          "data": {
            "text/plain": [
              "<keras.callbacks.History at 0x7f32d19994e0>"
            ]
          },
          "metadata": {
            "tags": []
          },
          "execution_count": 29
        }
      ]
    },
    {
      "metadata": {
        "id": "ZNNG6ZAM81b8",
        "colab_type": "code",
        "colab": {
          "base_uri": "https://localhost:8080/",
          "height": 374
        },
        "outputId": "e79dbddb-a9b2-4c6a-b380-c7334853d580"
      },
      "cell_type": "code",
      "source": [
        "model.fit_generator(image_a_b_gen(batch_size), callbacks=[tensorboard], epochs=10, steps_per_epoch=40)"
      ],
      "execution_count": 30,
      "outputs": [
        {
          "output_type": "stream",
          "text": [
            "Epoch 1/10\n",
            "40/40 [==============================] - 61s 2s/step - loss: 0.0037\n",
            "Epoch 2/10\n",
            "40/40 [==============================] - 61s 2s/step - loss: 0.0034\n",
            "Epoch 3/10\n",
            "40/40 [==============================] - 61s 2s/step - loss: 0.0031\n",
            "Epoch 4/10\n",
            "40/40 [==============================] - 61s 2s/step - loss: 0.0025\n",
            "Epoch 5/10\n",
            "40/40 [==============================] - 61s 2s/step - loss: 0.0022\n",
            "Epoch 6/10\n",
            "40/40 [==============================] - 64s 2s/step - loss: 0.0019\n",
            "Epoch 7/10\n",
            "40/40 [==============================] - 62s 2s/step - loss: 0.0017\n",
            "Epoch 8/10\n",
            "40/40 [==============================] - 62s 2s/step - loss: 0.0015\n",
            "Epoch 9/10\n",
            "40/40 [==============================] - 64s 2s/step - loss: 0.0013\n",
            "Epoch 10/10\n",
            "40/40 [==============================] - 62s 2s/step - loss: 0.0012\n"
          ],
          "name": "stdout"
        },
        {
          "output_type": "execute_result",
          "data": {
            "text/plain": [
              "<keras.callbacks.History at 0x7f32d4059f60>"
            ]
          },
          "metadata": {
            "tags": []
          },
          "execution_count": 30
        }
      ]
    },
    {
      "metadata": {
        "id": "pfb_cj7SbO8W",
        "colab_type": "code",
        "colab": {
          "base_uri": "https://localhost:8080/",
          "height": 34
        },
        "outputId": "e0b20f2f-3151-4633-f1c1-8fa0b486e326"
      },
      "cell_type": "code",
      "source": [
        "# load json and create model\n",
        "json_file = open('drive/Colab Notebooks/model.json', 'r')\n",
        "loaded_model_json = json_file.read()\n",
        "json_file.close()\n",
        "loaded_model = model_from_json(loaded_model_json)\n",
        "# load weights into new model\n",
        "loaded_model.load_weights(\"drive/Colab Notebooks/color_tensorflow_real_mode.h5\")\n",
        "print(\"Loaded model from disk\")"
      ],
      "execution_count": 21,
      "outputs": [
        {
          "output_type": "stream",
          "text": [
            "Loaded model from disk\n"
          ],
          "name": "stdout"
        }
      ]
    },
    {
      "metadata": {
        "id": "Wkev5TnBu9w5",
        "colab_type": "code",
        "colab": {}
      },
      "cell_type": "code",
      "source": [
        "loaded_model.compile(optimizer='adam', loss='mse')"
      ],
      "execution_count": 0,
      "outputs": []
    },
    {
      "metadata": {
        "id": "REze_FXwbUv8",
        "colab_type": "code",
        "colab": {}
      },
      "cell_type": "code",
      "source": [
        "color_me = []\n",
        "for filename in os.listdir('drive/Colab Notebooks/Test/'):\n",
        "    color_me.append(img_to_array(load_img('drive/Colab Notebooks/Test/'+filename)))\n",
        "color_me = np.array(color_me, dtype=float)\n",
        "color_me = 1.0/255*color_me\n",
        "color_me = gray2rgb(rgb2gray(color_me))\n",
        "color_me_embed = create_inception_embedding(color_me)\n",
        "color_me = rgb2lab(color_me)[:,:,:,0]\n",
        "color_me = color_me.reshape(color_me.shape+(1,))"
      ],
      "execution_count": 0,
      "outputs": []
    },
    {
      "metadata": {
        "id": "CS05RTy8btbh",
        "colab_type": "code",
        "colab": {}
      },
      "cell_type": "code",
      "source": [
        "#Test model\n",
        "output = loaded_model.predict([color_me, color_me_embed])\n",
        "output = output * 128"
      ],
      "execution_count": 0,
      "outputs": []
    },
    {
      "metadata": {
        "id": "6kzmYBiPb0H3",
        "colab_type": "code",
        "colab": {
          "base_uri": "https://localhost:8080/",
          "height": 51
        },
        "outputId": "c1bcf27e-d6b4-4fe6-fcd5-b076ccb41a05"
      },
      "cell_type": "code",
      "source": [
        "for i in range(len(output)):\n",
        "    cur = np.zeros((256, 256, 3))\n",
        "    cur[:,:,0] = color_me[i][:,:,0]\n",
        "    cur[:,:,1:] = output[i]\n",
        "    imsave(\"drive/Colab Notebooks/result/img_abc\"+str(i)+\".png\", lab2rgb(cur))"
      ],
      "execution_count": 33,
      "outputs": [
        {
          "output_type": "stream",
          "text": [
            "/usr/local/lib/python3.6/dist-packages/skimage/util/dtype.py:122: UserWarning: Possible precision loss when converting from float64 to uint8\n",
            "  .format(dtypeobj_in, dtypeobj_out))\n"
          ],
          "name": "stderr"
        }
      ]
    },
    {
      "metadata": {
        "id": "jjV7VQowcELN",
        "colab_type": "code",
        "colab": {}
      },
      "cell_type": "code",
      "source": [
        ""
      ],
      "execution_count": 0,
      "outputs": []
    },
    {
      "metadata": {
        "id": "colAlPMdcy2z",
        "colab_type": "code",
        "colab": {}
      },
      "cell_type": "code",
      "source": [
        ""
      ],
      "execution_count": 0,
      "outputs": []
    }
  ]
}